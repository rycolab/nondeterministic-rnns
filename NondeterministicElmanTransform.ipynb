{
 "cells": [
  {
   "cell_type": "code",
   "execution_count": 1,
   "metadata": {},
   "outputs": [],
   "source": [
    "from math import log\n",
    "\n",
    "from nfarnn.base.fsa import FSA\n",
    "from nfarnn.base.random import random_pfsa\n",
    "from nfarnn.nfarnn.nondeterministic_elman_transform import NondeterministicElmanTransform"
   ]
  },
  {
   "cell_type": "code",
   "execution_count": 2,
   "metadata": {},
   "outputs": [
    {
     "data": {
      "text/html": [
       "\n",
       "       <script>\n",
       "       try {\n",
       "       require.config({\n",
       "       paths: {\n",
       "       \"d3\": \"https://cdnjs.cloudflare.com/ajax/libs/d3/4.13.0/d3\",\n",
       "       \"dagreD3\": \"https://cdnjs.cloudflare.com/ajax/libs/dagre-d3/0.6.1/dagre-d3.min\"\n",
       "       }\n",
       "       });\n",
       "       } catch {\n",
       "       [\"https://cdnjs.cloudflare.com/ajax/libs/d3/4.13.0/d3.js\",\n",
       "       \"https://cdnjs.cloudflare.com/ajax/libs/dagre-d3/0.6.1/dagre-d3.min.js\"].forEach(\n",
       "            function (src) {\n",
       "            var tag = document.createElement('script');\n",
       "            tag.src = src;\n",
       "            document.body.appendChild(tag);\n",
       "            }\n",
       "        )\n",
       "        }\n",
       "        try {\n",
       "        requirejs(['d3', 'dagreD3'], function() {});\n",
       "        } catch (e) {}\n",
       "        try {\n",
       "        require(['d3', 'dagreD3'], function() {});\n",
       "        } catch (e) {}\n",
       "        </script>\n",
       "        <style>\n",
       "        .node rect,\n",
       "        .node circle,\n",
       "        .node ellipse {\n",
       "        stroke: #333;\n",
       "        fill: #fff;\n",
       "        stroke-width: 1px;\n",
       "        }\n",
       "\n",
       "        .edgePath path {\n",
       "        stroke: #333;\n",
       "        fill: #333;\n",
       "        stroke-width: 1.5px;\n",
       "        }\n",
       "        </style>\n",
       "        <center><svg width=\"850\" height=\"600\" id=\"fst_8eeb652da1ed40ff9c5f3f3b39b3138b\"><g/></svg></center>\n",
       "        <script>\n",
       "        (function render_d3() {\n",
       "        var d3, dagreD3;\n",
       "        try { // requirejs is broken on external domains\n",
       "          d3 = require('d3');\n",
       "          dagreD3 = require('dagreD3');\n",
       "        } catch (e) {\n",
       "          // for google colab\n",
       "          if(typeof window.d3 !== \"undefined\" && typeof window.dagreD3 !== \"undefined\"){\n",
       "            d3 = window.d3;\n",
       "            dagreD3 = window.dagreD3;\n",
       "          } else { // not loaded yet, so wait and try again\n",
       "            setTimeout(render_d3, 50);\n",
       "            return;\n",
       "          }\n",
       "        }\n",
       "        //alert(\"loaded\");\n",
       "        var g = new dagreD3.graphlib.Graph().setGraph({ 'rankdir': 'LR' });\n",
       "        g.setNode(\"0\", { label: \"0 / 1.000\" , shape: \"circle\" });\n",
       "g.node(\"0\").style = \"fill: #66c2a5\"; \n",
       "g.setNode(\"1\",{label:\"1\",shape:\"circle\"});\n",
       "g.node(\"1\").style = \"fill: #8da0cb\"; \n",
       "g.setNode(\"3\",{label:\"3\",shape:\"circle\"});\n",
       "g.node(\"3\").style = \"fill: #8da0cb\"; \n",
       "g.setNode(\"4\",{label:\"4\",shape:\"circle\"});\n",
       "g.node(\"4\").style = \"fill: #8da0cb\"; \n",
       "g.setNode(\"2\",{label:\"2 / 1.000\",shape:\"circle\"});\n",
       "g.node(\"2\").style = \"fill: #fc8d62\"; \n",
       "g.setNode(\"5\",{label:\"5 / 1.000\",shape:\"circle\"});\n",
       "g.node(\"5\").style = \"fill: #fc8d62\"; \n",
       "g.setEdge(\"0\",\"1\",{arrowhead:\"vee\",label:\"a / 0.500\",\"style\": \"stroke: rgb(192, 192, 192); fill: none;\", \"labelStyle\": \"fill: rgb(192, 192, 192); stroke: rgb(192, 192, 192); \", \"arrowheadStyle\": \"fill: rgb(192, 192, 192); stroke: rgb(192, 192, 192);\"});\n",
       "g.setEdge(\"0\",\"3\",{arrowhead:\"vee\",label:\"a / 0.500\",\"style\": \"stroke: rgb(192, 192, 192); fill: none;\", \"labelStyle\": \"fill: rgb(192, 192, 192); stroke: rgb(192, 192, 192); \", \"arrowheadStyle\": \"fill: rgb(192, 192, 192); stroke: rgb(192, 192, 192);\"});\n",
       "g.setEdge(\"1\",\"2\",{arrowhead:\"vee\",label:\"a / 1.000\",\"style\": \"stroke: rgb(192, 192, 192); fill: none;\", \"labelStyle\": \"fill: rgb(192, 192, 192); stroke: rgb(192, 192, 192); \", \"arrowheadStyle\": \"fill: rgb(192, 192, 192); stroke: rgb(192, 192, 192);\"});\n",
       "g.setEdge(\"3\",\"4\",{arrowhead:\"vee\",label:\"b / 0.500\",\"style\": \"stroke: rgb(192, 192, 192); fill: none;\", \"labelStyle\": \"fill: rgb(192, 192, 192); stroke: rgb(192, 192, 192); \", \"arrowheadStyle\": \"fill: rgb(192, 192, 192); stroke: rgb(192, 192, 192);\"});\n",
       "g.setEdge(\"3\",\"3\",{arrowhead:\"vee\",label:\"a / 0.500\",\"style\": \"stroke: rgb(192, 192, 192); fill: none;\", \"labelStyle\": \"fill: rgb(192, 192, 192); stroke: rgb(192, 192, 192); \", \"arrowheadStyle\": \"fill: rgb(192, 192, 192); stroke: rgb(192, 192, 192);\"});\n",
       "g.setEdge(\"4\",\"5\",{arrowhead:\"vee\",label:\"a / 1.000\",\"style\": \"stroke: rgb(192, 192, 192); fill: none;\", \"labelStyle\": \"fill: rgb(192, 192, 192); stroke: rgb(192, 192, 192); \", \"arrowheadStyle\": \"fill: rgb(192, 192, 192); stroke: rgb(192, 192, 192);\"});\n",
       "var svg = d3.select(\"#fst_8eeb652da1ed40ff9c5f3f3b39b3138b\"); \n",
       "\n",
       "        var inner = svg.select(\"g\");\n",
       "\n",
       "        // Set up zoom support\n",
       "        var zoom = d3.zoom().scaleExtent([0.3, 5]).on(\"zoom\", function() {\n",
       "        inner.attr(\"transform\", d3.event.transform);\n",
       "        });\n",
       "        svg.call(zoom);\n",
       "\n",
       "        // Create the renderer\n",
       "        var render = new dagreD3.render();\n",
       "\n",
       "        // Run the renderer. This is what draws the final graph.\n",
       "        render(inner, g);\n",
       "\n",
       "        // Center the graph\n",
       "        var initialScale = 0.75;\n",
       "        svg.call(zoom.transform, d3.zoomIdentity.translate(\n",
       "            (svg.attr(\"width\")-g.graph().width*initialScale)/2,20).scale(initialScale));\n",
       "\n",
       "        svg.attr('height', g.graph().height * initialScale + 50);\n",
       "        })();\n",
       "\n",
       "        </script>\n",
       "        "
      ],
      "text/plain": [
       "WFSA(6 states, <class 'nfarnn.base.semiring.Real'>)"
      ]
     },
     "execution_count": 2,
     "metadata": {},
     "output_type": "execute_result"
    }
   ],
   "source": [
    "from nfarnn.base.state import State\n",
    "from nfarnn.base.semiring import Real\n",
    "from nfarnn.base.symbol import Sym\n",
    "A = FSA()\n",
    "A.add_I(State(0), Real(1))\n",
    "A.add_arc(State(0), Sym(\"a\"), State(1), Real(0.5))\n",
    "A.add_arc(State(1), Sym(\"a\"), State(2), Real(1))\n",
    "A.add_arc(State(0), Sym(\"a\"), State(3), Real(0.5))\n",
    "A.add_arc(State(3), Sym(\"b\"), State(4), Real(0.5))\n",
    "A.add_arc(State(3), Sym(\"a\"), State(3), Real(0.5))\n",
    "A.add_arc(State(4), Sym(\"a\"), State(5), Real(1))\n",
    "A.add_F(State(2), Real(1))\n",
    "A.add_F(State(5), Real(1))\n",
    "A"
   ]
  },
  {
   "cell_type": "code",
   "execution_count": 3,
   "metadata": {},
   "outputs": [
    {
     "name": "stdout",
     "output_type": "stream",
     "text": [
      "[[0.  0.  0.  0.  0.  0.  0.  0.  0.  0.  0.  0. ]\n",
      " [0.5 0.  0.  0.  0.  0.  0.5 0.  0.  0.  0.  0. ]\n",
      " [0.  1.  0.  0.  0.  0.  0.  1.  0.  0.  0.  0. ]\n",
      " [0.5 0.  0.  0.5 0.  0.  0.5 0.  0.  0.5 0.  0. ]\n",
      " [0.  0.  0.  0.  0.  0.  0.  0.  0.  0.  0.  0. ]\n",
      " [0.  0.  0.  0.  1.  0.  0.  0.  0.  0.  1.  0. ]\n",
      " [0.  0.  0.  0.  0.  0.  0.  0.  0.  0.  0.  0. ]\n",
      " [0.  0.  0.  0.  0.  0.  0.  0.  0.  0.  0.  0. ]\n",
      " [0.  0.  0.  0.  0.  0.  0.  0.  0.  0.  0.  0. ]\n",
      " [0.  0.  0.  0.  0.  0.  0.  0.  0.  0.  0.  0. ]\n",
      " [0.  0.  0.  0.5 0.  0.  0.  0.  0.  0.5 0.  0. ]\n",
      " [0.  0.  0.  0.  0.  0.  0.  0.  0.  0.  0.  0. ]]\n"
     ]
    }
   ],
   "source": [
    "x = \"aa\"\n",
    "M = NondeterministicElmanTransform(A)\n",
    "print(M.U) "
   ]
  },
  {
   "cell_type": "code",
   "execution_count": 4,
   "metadata": {},
   "outputs": [
    {
     "name": "stdout",
     "output_type": "stream",
     "text": [
      "[[1. 0. 0.]\n",
      " [1. 0. 0.]\n",
      " [1. 0. 0.]\n",
      " [1. 0. 0.]\n",
      " [1. 0. 0.]\n",
      " [1. 0. 0.]\n",
      " [0. 1. 0.]\n",
      " [0. 1. 0.]\n",
      " [0. 1. 0.]\n",
      " [0. 1. 0.]\n",
      " [0. 1. 0.]\n",
      " [0. 1. 0.]]\n"
     ]
    }
   ],
   "source": [
    "print(M.V)"
   ]
  },
  {
   "cell_type": "markdown",
   "metadata": {},
   "source": []
  },
  {
   "cell_type": "code",
   "execution_count": 5,
   "metadata": {},
   "outputs": [
    {
     "name": "stdout",
     "output_type": "stream",
     "text": [
      "[[1.  1.  0.  0.5 1.  0.  1.  1.  0.  0.5 1.  0. ]\n",
      " [0.  0.  0.  0.5 0.  0.  0.  0.  0.  0.5 0.  0. ]\n",
      " [0.  0.  1.  0.  0.  1.  0.  0.  1.  0.  0.  1. ]]\n"
     ]
    }
   ],
   "source": [
    "print(M.E)"
   ]
  },
  {
   "cell_type": "code",
   "execution_count": 6,
   "metadata": {},
   "outputs": [
    {
     "name": "stdout",
     "output_type": "stream",
     "text": [
      "h0: [1. 0. 0. 0. 0. 0. 0. 0. 0. 0. 0. 0.]\n",
      "p0: [1. 0. 0.], y0: [1. 0. 0.]\n",
      "h1:[0.  0.5 0.  0.5 0.  0.  0.  0.  0.  0.  0.  0. ]\n",
      "p1: [0.75 0.25 0.  ], y1: [1. 0. 0.]\n",
      "h2:[0.         0.         0.66666667 0.33333333 0.         0.\n",
      " 0.         0.         0.         0.         0.         0.        ]\n",
      "p2: [0.16666667 0.16666667 0.66666667], y2: [0. 0. 1.]\n",
      "-0.6931471805599454\n",
      "-0.6931471805599453\n"
     ]
    }
   ],
   "source": [
    "print(M.R.score(x))\n",
    "print(log(A.accept(x)))"
   ]
  },
  {
   "cell_type": "code",
   "execution_count": 7,
   "metadata": {},
   "outputs": [
    {
     "data": {
      "text/html": [
       "\n",
       "       <script>\n",
       "       try {\n",
       "       require.config({\n",
       "       paths: {\n",
       "       \"d3\": \"https://cdnjs.cloudflare.com/ajax/libs/d3/4.13.0/d3\",\n",
       "       \"dagreD3\": \"https://cdnjs.cloudflare.com/ajax/libs/dagre-d3/0.6.1/dagre-d3.min\"\n",
       "       }\n",
       "       });\n",
       "       } catch {\n",
       "       [\"https://cdnjs.cloudflare.com/ajax/libs/d3/4.13.0/d3.js\",\n",
       "       \"https://cdnjs.cloudflare.com/ajax/libs/dagre-d3/0.6.1/dagre-d3.min.js\"].forEach(\n",
       "            function (src) {\n",
       "            var tag = document.createElement('script');\n",
       "            tag.src = src;\n",
       "            document.body.appendChild(tag);\n",
       "            }\n",
       "        )\n",
       "        }\n",
       "        try {\n",
       "        requirejs(['d3', 'dagreD3'], function() {});\n",
       "        } catch (e) {}\n",
       "        try {\n",
       "        require(['d3', 'dagreD3'], function() {});\n",
       "        } catch (e) {}\n",
       "        </script>\n",
       "        <style>\n",
       "        .node rect,\n",
       "        .node circle,\n",
       "        .node ellipse {\n",
       "        stroke: #333;\n",
       "        fill: #fff;\n",
       "        stroke-width: 1px;\n",
       "        }\n",
       "\n",
       "        .edgePath path {\n",
       "        stroke: #333;\n",
       "        fill: #333;\n",
       "        stroke-width: 1.5px;\n",
       "        }\n",
       "        </style>\n",
       "        <center><svg width=\"850\" height=\"600\" id=\"fst_2aa2d519f8654748b07f1c7e735ce356\"><g/></svg></center>\n",
       "        <script>\n",
       "        (function render_d3() {\n",
       "        var d3, dagreD3;\n",
       "        try { // requirejs is broken on external domains\n",
       "          d3 = require('d3');\n",
       "          dagreD3 = require('dagreD3');\n",
       "        } catch (e) {\n",
       "          // for google colab\n",
       "          if(typeof window.d3 !== \"undefined\" && typeof window.dagreD3 !== \"undefined\"){\n",
       "            d3 = window.d3;\n",
       "            dagreD3 = window.dagreD3;\n",
       "          } else { // not loaded yet, so wait and try again\n",
       "            setTimeout(render_d3, 50);\n",
       "            return;\n",
       "          }\n",
       "        }\n",
       "        //alert(\"loaded\");\n",
       "        var g = new dagreD3.graphlib.Graph().setGraph({ 'rankdir': 'LR' });\n",
       "        g.setNode(\"0\", { label: \"0 / 1.000\" , shape: \"circle\" });\n",
       "g.node(\"0\").style = \"fill: #66c2a5\"; \n",
       "g.setNode(\"1\",{label:\"1\",shape:\"circle\"});\n",
       "g.node(\"1\").style = \"fill: #8da0cb\"; \n",
       "g.setNode(\"2\",{label:\"2 / 0.460\",shape:\"circle\"});\n",
       "g.node(\"2\").style = \"fill: #fc8d62\"; \n",
       "g.setEdge(\"0\",\"0\",{arrowhead:\"vee\",label:\"a / 0.418\\nb / 0.258\",\"style\": \"stroke: rgb(192, 192, 192); fill: none;\", \"labelStyle\": \"fill: rgb(192, 192, 192); stroke: rgb(192, 192, 192); \", \"arrowheadStyle\": \"fill: rgb(192, 192, 192); stroke: rgb(192, 192, 192);\"});\n",
       "g.setEdge(\"0\",\"1\",{arrowhead:\"vee\",label:\"a / 0.287\\nb / 0.038\",\"style\": \"stroke: rgb(192, 192, 192); fill: none;\", \"labelStyle\": \"fill: rgb(192, 192, 192); stroke: rgb(192, 192, 192); \", \"arrowheadStyle\": \"fill: rgb(192, 192, 192); stroke: rgb(192, 192, 192);\"});\n",
       "g.setEdge(\"1\",\"2\",{arrowhead:\"vee\",label:\"b / 0.333\\na / 0.263\",\"style\": \"stroke: rgb(192, 192, 192); fill: none;\", \"labelStyle\": \"fill: rgb(192, 192, 192); stroke: rgb(192, 192, 192); \", \"arrowheadStyle\": \"fill: rgb(192, 192, 192); stroke: rgb(192, 192, 192);\"});\n",
       "g.setEdge(\"1\",\"0\",{arrowhead:\"vee\",label:\"a / 0.379\",\"style\": \"stroke: rgb(192, 192, 192); fill: none;\", \"labelStyle\": \"fill: rgb(192, 192, 192); stroke: rgb(192, 192, 192); \", \"arrowheadStyle\": \"fill: rgb(192, 192, 192); stroke: rgb(192, 192, 192);\"});\n",
       "g.setEdge(\"1\",\"1\",{arrowhead:\"vee\",label:\"a / 0.024\",\"style\": \"stroke: rgb(192, 192, 192); fill: none;\", \"labelStyle\": \"fill: rgb(192, 192, 192); stroke: rgb(192, 192, 192); \", \"arrowheadStyle\": \"fill: rgb(192, 192, 192); stroke: rgb(192, 192, 192);\"});\n",
       "g.setEdge(\"2\",\"1\",{arrowhead:\"vee\",label:\"b / 0.070\",\"style\": \"stroke: rgb(192, 192, 192); fill: none;\", \"labelStyle\": \"fill: rgb(192, 192, 192); stroke: rgb(192, 192, 192); \", \"arrowheadStyle\": \"fill: rgb(192, 192, 192); stroke: rgb(192, 192, 192);\"});\n",
       "g.setEdge(\"2\",\"2\",{arrowhead:\"vee\",label:\"b / 0.050\",\"style\": \"stroke: rgb(192, 192, 192); fill: none;\", \"labelStyle\": \"fill: rgb(192, 192, 192); stroke: rgb(192, 192, 192); \", \"arrowheadStyle\": \"fill: rgb(192, 192, 192); stroke: rgb(192, 192, 192);\"});\n",
       "g.setEdge(\"2\",\"0\",{arrowhead:\"vee\",label:\"b / 0.220\\na / 0.201\",\"style\": \"stroke: rgb(192, 192, 192); fill: none;\", \"labelStyle\": \"fill: rgb(192, 192, 192); stroke: rgb(192, 192, 192); \", \"arrowheadStyle\": \"fill: rgb(192, 192, 192); stroke: rgb(192, 192, 192);\"});\n",
       "var svg = d3.select(\"#fst_2aa2d519f8654748b07f1c7e735ce356\"); \n",
       "\n",
       "        var inner = svg.select(\"g\");\n",
       "\n",
       "        // Set up zoom support\n",
       "        var zoom = d3.zoom().scaleExtent([0.3, 5]).on(\"zoom\", function() {\n",
       "        inner.attr(\"transform\", d3.event.transform);\n",
       "        });\n",
       "        svg.call(zoom);\n",
       "\n",
       "        // Create the renderer\n",
       "        var render = new dagreD3.render();\n",
       "\n",
       "        // Run the renderer. This is what draws the final graph.\n",
       "        render(inner, g);\n",
       "\n",
       "        // Center the graph\n",
       "        var initialScale = 0.75;\n",
       "        svg.call(zoom.transform, d3.zoomIdentity.translate(\n",
       "            (svg.attr(\"width\")-g.graph().width*initialScale)/2,20).scale(initialScale));\n",
       "\n",
       "        svg.attr('height', g.graph().height * initialScale + 50);\n",
       "        })();\n",
       "\n",
       "        </script>\n",
       "        "
      ],
      "text/plain": [
       "WFSA(3 states, <class 'nfarnn.base.semiring.Real'>)"
      ]
     },
     "execution_count": 7,
     "metadata": {},
     "output_type": "execute_result"
    }
   ],
   "source": [
    "A2 = random_pfsa(\n",
    "    Sigma=\"ab\",\n",
    "    num_states=3,\n",
    "    deterministic=False,\n",
    "    no_eps=True,\n",
    "    bias=0.5,\n",
    "    seed=9,\n",
    ")\n",
    "A2"
   ]
  },
  {
   "cell_type": "code",
   "execution_count": 8,
   "metadata": {},
   "outputs": [
    {
     "name": "stdout",
     "output_type": "stream",
     "text": [
      "h0: [1. 0. 0. 0. 0. 0.]\n",
      "p0: [0.70461613 0.29538387 0.        ], y0: [1. 0. 0.]\n",
      "h1:[0.41780657 0.28680955 0.         0.         0.         0.        ]\n",
      "p1: [0.68913276 0.31086724 0.        ], y1: [1. 0. 0.]\n",
      "h2:[0.28327376 0.12677798 0.07552232 0.         0.         0.        ]\n",
      "p2: [0.61634515 0.31214877 0.07150608], y2: [1. 0. 0.]\n",
      "h3:[0.18158178 0.08431642 0.03338301 0.         0.         0.        ]\n",
      "p3: [0.63771623 0.31100126 0.0512825 ], y3: [0. 1. 0.]\n",
      "h4:[0.         0.         0.         0.05415581 0.00915512 0.02976591]\n",
      "p4: [0.53979573 0.31317607 0.1470282 ], y4: [0. 0. 1.]\n",
      "-4.29146083854721\n",
      "-4.291460838547212\n"
     ]
    }
   ],
   "source": [
    "x = \"aaab\"\n",
    "M2 = NondeterministicElmanTransform(A2, softmax_normalized=True)\n",
    "print(M2.R.score(x))\n",
    "print(log(A2.accept(x)))"
   ]
  }
 ],
 "metadata": {
  "kernelspec": {
   "display_name": "Python 3",
   "language": "python",
   "name": "python3"
  },
  "language_info": {
   "codemirror_mode": {
    "name": "ipython",
    "version": 3
   },
   "file_extension": ".py",
   "mimetype": "text/x-python",
   "name": "python",
   "nbconvert_exporter": "python",
   "pygments_lexer": "ipython3",
   "version": "3.10.13"
  }
 },
 "nbformat": 4,
 "nbformat_minor": 2
}
